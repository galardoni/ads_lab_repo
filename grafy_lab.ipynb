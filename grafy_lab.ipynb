{
  "nbformat": 4,
  "nbformat_minor": 0,
  "metadata": {
    "colab": {
      "provenance": [],
      "collapsed_sections": [
        "AWPFxP4EpZ2K",
        "dhLA3cSbxWhn",
        "UsS0gQy-ZwSE",
        "tyHm9mVldfv-",
        "DGjR-fV8Z6hK",
        "E5BRvtiljoRb",
        "Ce1dgxlawGgv"
      ]
    },
    "kernelspec": {
      "name": "python3",
      "display_name": "Python 3"
    },
    "language_info": {
      "name": "python"
    }
  },
  "cells": [
    {
      "cell_type": "markdown",
      "source": [
        "#data"
      ],
      "metadata": {
        "id": "AWPFxP4EpZ2K"
      }
    },
    {
      "cell_type": "code",
      "source": [
        "# Węzły to użytkownicy LastFM z krajów azjatyckich, a krawędzie to wzajemne relacje obserwowania między nimi.\n",
        "# Każdy z węzłów ma przypisaną etykietę oznaczającą kraj użytkownika.\n",
        "# Cechy wierzchołków są wydobywane na podstawie artystów lubianych przez użytkowników.\n",
        "# Klasyfikacja węzłów - trzeba przewidzieć lokalizację użytkowników.\n",
        "# Można wprowadzić utrudnienia - dostęp tylko do krawędzi lub cech.\n",
        "!wget https://snap.stanford.edu/data/lastfm_asia.zip\n",
        "!unzip lastfm_asia.zip"
      ],
      "metadata": {
        "colab": {
          "base_uri": "https://localhost:8080/"
        },
        "id": "J-lTGR3eDkQW",
        "outputId": "2f1da2ff-ebdf-4771-a1e9-89b75a518e76"
      },
      "execution_count": null,
      "outputs": [
        {
          "output_type": "stream",
          "name": "stdout",
          "text": [
            "--2023-05-18 15:44:09--  https://snap.stanford.edu/data/lastfm_asia.zip\n",
            "Resolving snap.stanford.edu (snap.stanford.edu)... 171.64.75.80\n",
            "Connecting to snap.stanford.edu (snap.stanford.edu)|171.64.75.80|:443... connected.\n",
            "HTTP request sent, awaiting response... 200 OK\n",
            "Length: 6527202 (6.2M) [application/zip]\n",
            "Saving to: ‘lastfm_asia.zip’\n",
            "\n",
            "lastfm_asia.zip     100%[===================>]   6.22M  1.96MB/s    in 3.2s    \n",
            "\n",
            "2023-05-18 15:44:13 (1.96 MB/s) - ‘lastfm_asia.zip’ saved [6527202/6527202]\n",
            "\n",
            "Archive:  lastfm_asia.zip\n",
            "   creating: lasftm_asia/\n",
            "  inflating: lasftm_asia/lastfm_asia_edges.csv  \n",
            "  inflating: lasftm_asia/lastfm_asia_target.csv  \n",
            "  inflating: lasftm_asia/lastfm_asia_features.json  \n",
            "  inflating: lasftm_asia/README.txt  \n"
          ]
        }
      ]
    },
    {
      "cell_type": "code",
      "source": [
        "import json\n",
        "import pandas as pd\n",
        "import matplotlib.pyplot as plt\n",
        "import numpy as np"
      ],
      "metadata": {
        "id": "dR_q6jMARv3o"
      },
      "execution_count": null,
      "outputs": []
    },
    {
      "cell_type": "code",
      "source": [
        "# read features\n",
        "with open('/content/lasftm_asia/lastfm_asia_features.json', 'r') as f:\n",
        "    js = json.load(f)\n",
        "\n",
        "# convert to pandas \n",
        "features = pd.DataFrame.from_dict(js, orient='index')\n",
        "\n",
        "print(f\"num of nodes: {len(js.keys())}\")\n",
        "print(f\"num of unique features: {len(np.unique(features.values.flatten()))}\")\n",
        "print(f\"max num of features per node: {features.shape[1]}\")"
      ],
      "metadata": {
        "id": "lepRralffWhe",
        "colab": {
          "base_uri": "https://localhost:8080/"
        },
        "outputId": "fd05ea71-959a-4620-c5a3-a319ccb35500"
      },
      "execution_count": null,
      "outputs": [
        {
          "output_type": "stream",
          "name": "stdout",
          "text": [
            "num of nodes: 7624\n",
            "num of unique features: 7843\n",
            "max num of features per node: 944\n"
          ]
        }
      ]
    },
    {
      "cell_type": "code",
      "source": [
        "# get number of features for each node\n",
        "num_features = features.count(axis=1)\n",
        "\n",
        "# plot histogram of number of features\n",
        "fig, ax = plt.subplots()\n",
        "ax.hist(num_features, bins=20)\n",
        "ax.set_xlabel('Number of Features')\n",
        "ax.set_ylabel('Number of Nodes')\n",
        "ax.set_title('Distribution of Number of Features per Node')\n",
        "fig.set_facecolor('w') "
      ],
      "metadata": {
        "colab": {
          "base_uri": "https://localhost:8080/",
          "height": 472
        },
        "id": "S71xMmsIO8Uw",
        "outputId": "6ee68871-5a0f-4564-c6c9-ecd5463fcd5c"
      },
      "execution_count": null,
      "outputs": [
        {
          "output_type": "display_data",
          "data": {
            "text/plain": [
              "<Figure size 640x480 with 1 Axes>"
            ],
            "image/png": "[encoded data removed]"
          },
          "metadata": {}
        }
      ]
    },
    {
      "cell_type": "code",
      "source": [
        "# read nodes and edges\n",
        "nodes = pd.read_csv('/content/lasftm_asia/lastfm_asia_target.csv')\n",
        "edges = pd.read_csv('/content/lasftm_asia/lastfm_asia_edges.csv')\n",
        "\n",
        "print(f\"num of nodes: {nodes['id'].nunique()}\")\n",
        "print(f\"num of labels: {nodes['target'].nunique()}\")\n",
        "\n",
        "print(\"\\nnodes:\")\n",
        "print(nodes.head())\n",
        "print(nodes.shape)\n",
        "\n",
        "print(\"\\nedges:\")\n",
        "print(edges.head())\n",
        "print(edges.shape)"
      ],
      "metadata": {
        "id": "KjXAgbQAit1j",
        "colab": {
          "base_uri": "https://localhost:8080/"
        },
        "outputId": "486303ff-bec4-4d00-868c-b1e12b26c264"
      },
      "execution_count": null,
      "outputs": [
        {
          "output_type": "stream",
          "name": "stdout",
          "text": [
            "num of nodes: 7624\n",
            "num of labels: 18\n",
            "\n",
            "nodes:\n",
            "   id  target\n",
            "0   0       8\n",
            "1   1      17\n",
            "2   2       3\n",
            "3   3      17\n",
            "4   4       5\n",
            "(7624, 2)\n",
            "\n",
            "edges:\n",
            "   node_1  node_2\n",
            "0       0     747\n",
            "1       1    4257\n",
            "2       1    2194\n",
            "3       1     580\n",
            "4       1    6478\n",
            "(27806, 2)\n"
          ]
        }
      ]
    },
    {
      "cell_type": "code",
      "source": [
        "import matplotlib.pyplot as plt\n",
        "\n",
        "# Group the data by target and count the number of occurrences of each target\n",
        "target_counts = nodes.groupby('target')['id'].count()\n",
        "\n",
        "# Create the plot\n",
        "fig, ax = plt.subplots()\n",
        "ax.bar(target_counts.index, target_counts.values)\n",
        "ax.set_xlabel('Target')\n",
        "ax.set_ylabel('Number of nodes')\n",
        "ax.set_title('Target Distribution')\n",
        "\n",
        "# Set the x-axis ticks to display decimals only\n",
        "ax.xaxis.set_major_locator(plt.MaxNLocator(5))\n",
        "ax.xaxis.set_major_formatter(plt.FormatStrFormatter('%.1f'))\n",
        "\n",
        "fig.set_facecolor('w')\n",
        "plt.show()"
      ],
      "metadata": {
        "colab": {
          "base_uri": "https://localhost:8080/",
          "height": 472
        },
        "id": "85uJl_wkiPEd",
        "outputId": "f645b543-3573-451e-9eb6-dad9362595e0"
      },
      "execution_count": null,
      "outputs": [
        {
          "output_type": "display_data",
          "data": {
            "text/plain": [
              "<Figure size 640x480 with 1 Axes>"
            ],
            "image/png": "[encoded data removed]"
          },
          "metadata": {}
        }
      ]
    },
    {
      "cell_type": "code",
      "source": [
        "# Extract the number of edges per node\n",
        "num_edges = edges.groupby('node_1').size() + edges.groupby('node_2').size()\n",
        "\n",
        "# Plot histogram of number of edges\n",
        "fig, ax = plt.subplots()\n",
        "ax.hist(num_edges, bins=20)\n",
        "ax.set_xlabel('Number of Edges')\n",
        "ax.set_ylabel('Number of Nodes')\n",
        "ax.set_title('Distribution of Number of Edges per Node')\n",
        "fig.set_facecolor('w')\n",
        "\n",
        "plt.show()"
      ],
      "metadata": {
        "colab": {
          "base_uri": "https://localhost:8080/",
          "height": 472
        },
        "id": "liUodABIB09U",
        "outputId": "3523e6be-05b1-49dd-de4e-6488bda104f2"
      },
      "execution_count": null,
      "outputs": [
        {
          "output_type": "display_data",
          "data": {
            "text/plain": [
              "<Figure size 640x480 with 1 Axes>"
            ],
            "image/png": "[encoded data removed]"
          },
          "metadata": {}
        }
      ]
    },
    {
      "cell_type": "markdown",
      "source": [
        "# binary features"
      ],
      "metadata": {
        "id": "dhLA3cSbxWhn"
      }
    },
    {
      "cell_type": "code",
      "source": [
        "# replace NaN values with -1\n",
        "features.fillna(value=-1, inplace=True)\n",
        "\n",
        "# create binary feature matrix\n",
        "num_nodes = features.shape[0]\n",
        "num_features = len(np.unique(features.values.flatten())) + 1 # assuming the feature indices start at 0\n",
        "binary_features = np.zeros((num_nodes, num_features), dtype=int)\n",
        "\n",
        "for i in range(num_nodes):\n",
        "    # get the features for the current node\n",
        "    node_features = features.iloc[i].values\n",
        "    \n",
        "    # set the values in the corresponding columns to 1\n",
        "    binary_features[i, node_features.astype(int)] = 1\n",
        "\n",
        "print(f\"num of nodes: {binary_features.shape[0]}\")\n",
        "print(f\"num of features: {binary_features.shape[1]}\")"
      ],
      "metadata": {
        "colab": {
          "base_uri": "https://localhost:8080/"
        },
        "id": "pxW_8x_pxZHE",
        "outputId": "23346df6-57a5-4a6b-cdbd-ecf480884138"
      },
      "execution_count": null,
      "outputs": [
        {
          "output_type": "stream",
          "name": "stdout",
          "text": [
            "num of nodes: 7624\n",
            "num of features: 7844\n"
          ]
        }
      ]
    },
    {
      "cell_type": "code",
      "source": [
        "binary_features.shape"
      ],
      "metadata": {
        "colab": {
          "base_uri": "https://localhost:8080/"
        },
        "id": "NgTWW6BDDo4x",
        "outputId": "331036e9-10a8-4c84-e393-dfbd6c33e802"
      },
      "execution_count": null,
      "outputs": [
        {
          "output_type": "execute_result",
          "data": {
            "text/plain": [
              "(7624, 7844)"
            ]
          },
          "metadata": {},
          "execution_count": 9
        }
      ]
    },
    {
      "cell_type": "code",
      "source": [
        "binary_features"
      ],
      "metadata": {
        "colab": {
          "base_uri": "https://localhost:8080/"
        },
        "id": "8n76RHqBhylr",
        "outputId": "26111d16-be5f-4ff6-bb57-717cf110b7c2"
      },
      "execution_count": null,
      "outputs": [
        {
          "output_type": "execute_result",
          "data": {
            "text/plain": [
              "array([[0, 0, 0, ..., 0, 0, 1],\n",
              "       [0, 0, 0, ..., 0, 0, 1],\n",
              "       [0, 0, 0, ..., 0, 0, 1],\n",
              "       ...,\n",
              "       [0, 0, 0, ..., 0, 0, 1],\n",
              "       [0, 0, 0, ..., 1, 0, 1],\n",
              "       [0, 0, 0, ..., 0, 0, 1]])"
            ]
          },
          "metadata": {},
          "execution_count": 11
        }
      ]
    },
    {
      "cell_type": "markdown",
      "source": [
        "# binary edges"
      ],
      "metadata": {
        "id": "UsS0gQy-ZwSE"
      }
    },
    {
      "cell_type": "code",
      "source": [
        "# extract node IDs and target labels\n",
        "node_ids = nodes['id'].values\n",
        "labels = nodes['target'].values\n",
        "\n",
        "# initialize numpy arrays with zeros\n",
        "num_nodes = node_ids.shape[0]\n",
        "binary_edges = np.zeros((num_nodes, num_nodes), dtype=int)\n",
        "\n",
        "# set features to 1 for nodes that have edges\n",
        "for node_1, node_2 in edges[['node_1', 'node_2']].values:\n",
        "    node_1_idx = np.where(node_ids == node_1)[0][0]\n",
        "    node_2_idx = np.where(node_ids == node_2)[0][0]\n",
        "    binary_edges[node_1_idx, node_2_idx] = 1"
      ],
      "metadata": {
        "id": "ab9sd4o7cKYc"
      },
      "execution_count": null,
      "outputs": []
    },
    {
      "cell_type": "code",
      "source": [
        "binary_edges.shape"
      ],
      "metadata": {
        "colab": {
          "base_uri": "https://localhost:8080/"
        },
        "id": "vFfL-dZscPlV",
        "outputId": "71cd6fc4-9924-46c8-892f-3d85bae160ae"
      },
      "execution_count": null,
      "outputs": [
        {
          "output_type": "execute_result",
          "data": {
            "text/plain": [
              "(7624, 7624)"
            ]
          },
          "metadata": {},
          "execution_count": 16
        }
      ]
    },
    {
      "cell_type": "code",
      "source": [
        "edges[:12]"
      ],
      "metadata": {
        "colab": {
          "base_uri": "https://localhost:8080/",
          "height": 425
        },
        "id": "Z9E6_huLaInD",
        "outputId": "77d4d12a-35b4-47fa-a05f-3cef51cdec79"
      },
      "execution_count": null,
      "outputs": [
        {
          "output_type": "execute_result",
          "data": {
            "text/plain": [
              "    node_1  node_2\n",
              "0        0     747\n",
              "1        1    4257\n",
              "2        1    2194\n",
              "3        1     580\n",
              "4        1    6478\n",
              "5        1    1222\n",
              "6        1    5735\n",
              "7        1    7146\n",
              "8        1    2204\n",
              "9        1     126\n",
              "10       1    2639\n",
              "11       2     562"
            ],
            "text/html": [
              "\n",
              "  <div id=\"df-bbc3f176-85cc-4848-a09f-a469ad5676d2\">\n",
              "    <div class=\"colab-df-container\">\n",
              "      <div>\n",
              "<style scoped>\n",
              "    .dataframe tbody tr th:only-of-type {\n",
              "        vertical-align: middle;\n",
              "    }\n",
              "\n",
              "    .dataframe tbody tr th {\n",
              "        vertical-align: top;\n",
              "    }\n",
              "\n",
              "    .dataframe thead th {\n",
              "        text-align: right;\n",
              "    }\n",
              "</style>\n",
              "<table border=\"1\" class=\"dataframe\">\n",
              "  <thead>\n",
              "    <tr style=\"text-align: right;\">\n",
              "      <th></th>\n",
              "      <th>node_1</th>\n",
              "      <th>node_2</th>\n",
              "    </tr>\n",
              "  </thead>\n",
              "  <tbody>\n",
              "    <tr>\n",
              "      <th>0</th>\n",
              "      <td>0</td>\n",
              "      <td>747</td>\n",
              "    </tr>\n",
              "    <tr>\n",
              "      <th>1</th>\n",
              "      <td>1</td>\n",
              "      <td>4257</td>\n",
              "    </tr>\n",
              "    <tr>\n",
              "      <th>2</th>\n",
              "      <td>1</td>\n",
              "      <td>2194</td>\n",
              "    </tr>\n",
              "    <tr>\n",
              "      <th>3</th>\n",
              "      <td>1</td>\n",
              "      <td>580</td>\n",
              "    </tr>\n",
              "    <tr>\n",
              "      <th>4</th>\n",
              "      <td>1</td>\n",
              "      <td>6478</td>\n",
              "    </tr>\n",
              "    <tr>\n",
              "      <th>5</th>\n",
              "      <td>1</td>\n",
              "      <td>1222</td>\n",
              "    </tr>\n",
              "    <tr>\n",
              "      <th>6</th>\n",
              "      <td>1</td>\n",
              "      <td>5735</td>\n",
              "    </tr>\n",
              "    <tr>\n",
              "      <th>7</th>\n",
              "      <td>1</td>\n",
              "      <td>7146</td>\n",
              "    </tr>\n",
              "    <tr>\n",
              "      <th>8</th>\n",
              "      <td>1</td>\n",
              "      <td>2204</td>\n",
              "    </tr>\n",
              "    <tr>\n",
              "      <th>9</th>\n",
              "      <td>1</td>\n",
              "      <td>126</td>\n",
              "    </tr>\n",
              "    <tr>\n",
              "      <th>10</th>\n",
              "      <td>1</td>\n",
              "      <td>2639</td>\n",
              "    </tr>\n",
              "    <tr>\n",
              "      <th>11</th>\n",
              "      <td>2</td>\n",
              "      <td>562</td>\n",
              "    </tr>\n",
              "  </tbody>\n",
              "</table>\n",
              "</div>\n",
              "      <button class=\"colab-df-convert\" onclick=\"convertToInteractive('df-bbc3f176-85cc-4848-a09f-a469ad5676d2')\"\n",
              "              title=\"Convert this dataframe to an interactive table.\"\n",
              "              style=\"display:none;\">\n",
              "        \n",
              "  <svg xmlns=\"http://www.w3.org/2000/svg\" height=\"24px\"viewBox=\"0 0 24 24\"\n",
              "       width=\"24px\">\n",
              "    <path d=\"M0 0h24v24H0V0z\" fill=\"none\"/>\n",
              "    <path d=\"M18.56 5.44l.94 2.06.94-2.06 2.06-.94-2.06-.94-.94-2.06-.94 2.06-2.06.94zm-11 1L8.5 8.5l.94-2.06 2.06-.94-2.06-.94L8.5 2.5l-.94 2.06-2.06.94zm10 10l.94 2.06.94-2.06 2.06-.94-2.06-.94-.94-2.06-.94 2.06-2.06.94z\"/><path d=\"M17.41 7.96l-1.37-1.37c-.4-.4-.92-.59-1.43-.59-.52 0-1.04.2-1.43.59L10.3 9.45l-7.72 7.72c-.78.78-.78 2.05 0 2.83L4 21.41c.39.39.9.59 1.41.59.51 0 1.02-.2 1.41-.59l7.78-7.78 2.81-2.81c.8-.78.8-2.07 0-2.86zM5.41 20L4 18.59l7.72-7.72 1.47 1.35L5.41 20z\"/>\n",
              "  </svg>\n",
              "      </button>\n",
              "      \n",
              "  <style>\n",
              "    .colab-df-container {\n",
              "      display:flex;\n",
              "      flex-wrap:wrap;\n",
              "      gap: 12px;\n",
              "    }\n",
              "\n",
              "    .colab-df-convert {\n",
              "      background-color: #E8F0FE;\n",
              "      border: none;\n",
              "      border-radius: 50%;\n",
              "      cursor: pointer;\n",
              "      display: none;\n",
              "      fill: #1967D2;\n",
              "      height: 32px;\n",
              "      padding: 0 0 0 0;\n",
              "      width: 32px;\n",
              "    }\n",
              "\n",
              "    .colab-df-convert:hover {\n",
              "      background-color: #E2EBFA;\n",
              "      box-shadow: 0px 1px 2px rgba(60, 64, 67, 0.3), 0px 1px 3px 1px rgba(60, 64, 67, 0.15);\n",
              "      fill: #174EA6;\n",
              "    }\n",
              "\n",
              "    [theme=dark] .colab-df-convert {\n",
              "      background-color: #3B4455;\n",
              "      fill: #D2E3FC;\n",
              "    }\n",
              "\n",
              "    [theme=dark] .colab-df-convert:hover {\n",
              "      background-color: #434B5C;\n",
              "      box-shadow: 0px 1px 3px 1px rgba(0, 0, 0, 0.15);\n",
              "      filter: drop-shadow(0px 1px 2px rgba(0, 0, 0, 0.3));\n",
              "      fill: #FFFFFF;\n",
              "    }\n",
              "  </style>\n",
              "\n",
              "      <script>\n",
              "        const buttonEl =\n",
              "          document.querySelector('#df-bbc3f176-85cc-4848-a09f-a469ad5676d2 button.colab-df-convert');\n",
              "        buttonEl.style.display =\n",
              "          google.colab.kernel.accessAllowed ? 'block' : 'none';\n",
              "\n",
              "        async function convertToInteractive(key) {\n",
              "          const element = document.querySelector('#df-bbc3f176-85cc-4848-a09f-a469ad5676d2');\n",
              "          const dataTable =\n",
              "            await google.colab.kernel.invokeFunction('convertToInteractive',\n",
              "                                                     [key], {});\n",
              "          if (!dataTable) return;\n",
              "\n",
              "          const docLinkHtml = 'Like what you see? Visit the ' +\n",
              "            '<a target=\"_blank\" href=https://colab.research.google.com/notebooks/data_table.ipynb>data table notebook</a>'\n",
              "            + ' to learn more about interactive tables.';\n",
              "          element.innerHTML = '';\n",
              "          dataTable['output_type'] = 'display_data';\n",
              "          await google.colab.output.renderOutput(dataTable, element);\n",
              "          const docLink = document.createElement('div');\n",
              "          docLink.innerHTML = docLinkHtml;\n",
              "          element.appendChild(docLink);\n",
              "        }\n",
              "      </script>\n",
              "    </div>\n",
              "  </div>\n",
              "  "
            ]
          },
          "metadata": {},
          "execution_count": 71
        }
      ]
    },
    {
      "cell_type": "code",
      "source": [
        "binary_edges[1]"
      ],
      "metadata": {
        "colab": {
          "base_uri": "https://localhost:8080/"
        },
        "id": "zSYy03u8E5NC",
        "outputId": "b75a586a-6b45-4c1d-d727-16e3ad02b61e"
      },
      "execution_count": null,
      "outputs": [
        {
          "output_type": "execute_result",
          "data": {
            "text/plain": [
              "array([0, 0, 0, ..., 0, 0, 0])"
            ]
          },
          "metadata": {},
          "execution_count": 17
        }
      ]
    },
    {
      "cell_type": "code",
      "source": [
        "sum(binary_edges[1])"
      ],
      "metadata": {
        "colab": {
          "base_uri": "https://localhost:8080/"
        },
        "id": "v_aaAAu9ahpc",
        "outputId": "f897e53e-0638-4581-e347-8f9bc3490f54"
      },
      "execution_count": null,
      "outputs": [
        {
          "output_type": "execute_result",
          "data": {
            "text/plain": [
              "10"
            ]
          },
          "metadata": {},
          "execution_count": 18
        }
      ]
    },
    {
      "cell_type": "code",
      "source": [
        "nonzero_indices = binary_edges[1].nonzero()[0]\n",
        "print(f\"Non-zero feature indices for node {1}: {nonzero_indices}\")"
      ],
      "metadata": {
        "colab": {
          "base_uri": "https://localhost:8080/"
        },
        "id": "qDnDSohvapYa",
        "outputId": "033d9248-ac14-43a2-d1b1-671a9d958e1a"
      },
      "execution_count": null,
      "outputs": [
        {
          "output_type": "stream",
          "name": "stdout",
          "text": [
            "Non-zero feature indices for node 1: [ 126  580 1222 2194 2204 2639 4257 5735 6478 7146]\n"
          ]
        }
      ]
    },
    {
      "cell_type": "code",
      "source": [
        "nonzero_indices = binary_edges[126].nonzero()[0]\n",
        "print(f\"Non-zero feature indices for node {126}: {nonzero_indices}\")"
      ],
      "metadata": {
        "colab": {
          "base_uri": "https://localhost:8080/"
        },
        "id": "ia1m34_ibIxS",
        "outputId": "24a4f5da-f2f4-409f-ebf3-d702e0ab7232"
      },
      "execution_count": null,
      "outputs": [
        {
          "output_type": "stream",
          "name": "stdout",
          "text": [
            "Non-zero feature indices for node 126: [ 700 3119 5718 6562 6577]\n"
          ]
        }
      ]
    },
    {
      "cell_type": "markdown",
      "source": [
        "# classification"
      ],
      "metadata": {
        "id": "tyHm9mVldfv-"
      }
    },
    {
      "cell_type": "code",
      "source": [
        "from sklearn.model_selection import train_test_split\n",
        "from sklearn.metrics import accuracy_score\n",
        "from sklearn.ensemble import RandomForestClassifier"
      ],
      "metadata": {
        "id": "c_MOdryDdm0x"
      },
      "execution_count": null,
      "outputs": []
    },
    {
      "cell_type": "code",
      "source": [
        "# split the data into training and test sets\n",
        "X_train, X_test, y_train, y_test = train_test_split(binary_edges, labels, test_size=0.1)\n",
        "\n",
        "# train a random forest classifier\n",
        "clf = RandomForestClassifier(n_estimators=100)\n",
        "clf.fit(X_train, y_train)\n",
        "\n",
        "# make predictions\n",
        "y_pred = clf.predict(X_test)\n",
        "\n",
        "# calculate accuracy\n",
        "acc = accuracy_score(y_test, y_pred)\n",
        "\n",
        "print(f\"Accuracy: {acc:.4f}\")"
      ],
      "metadata": {
        "colab": {
          "base_uri": "https://localhost:8080/"
        },
        "id": "F9sy8gJYYqry",
        "outputId": "485b073f-9087-4f60-b332-a597e75bfc7c"
      },
      "execution_count": null,
      "outputs": [
        {
          "output_type": "stream",
          "name": "stdout",
          "text": [
            "Accuracy: 0.6160\n"
          ]
        }
      ]
    },
    {
      "cell_type": "code",
      "source": [
        "# extract target labels\n",
        "labels = nodes['target'].values\n",
        "\n",
        "# split the data into training and test sets\n",
        "X_train, X_test, y_train, y_test = train_test_split(binary_features, labels, test_size=0.1)\n",
        "\n",
        "# train a random forest classifier\n",
        "clf = RandomForestClassifier(n_estimators=100)\n",
        "clf.fit(X_train, y_train)\n",
        "\n",
        "# make predictions\n",
        "y_pred = clf.predict(X_test)\n",
        "\n",
        "# calculate accuracy\n",
        "acc = accuracy_score(y_test, y_pred)\n",
        "\n",
        "print(f\"Accuracy: {acc:.4f}\")"
      ],
      "metadata": {
        "colab": {
          "base_uri": "https://localhost:8080/"
        },
        "id": "zorz6j2MWzne",
        "outputId": "4135a9e3-a3fd-4037-f926-5ceedfc52782"
      },
      "execution_count": null,
      "outputs": [
        {
          "output_type": "stream",
          "name": "stdout",
          "text": [
            "Accuracy: 0.7038\n"
          ]
        }
      ]
    },
    {
      "cell_type": "code",
      "source": [
        "# extract target labels\n",
        "labels = nodes['target'].values\n",
        "\n",
        "# split the data into training and test sets\n",
        "X_train, X_test, y_train, y_test = train_test_split(binary_features, labels, test_size=0.1)\n",
        "\n",
        "# train a random forest classifier\n",
        "clf = RandomForestClassifier(n_estimators=200)\n",
        "clf.fit(X_train, y_train)\n",
        "\n",
        "# make predictions\n",
        "y_pred = clf.predict(X_test)\n",
        "\n",
        "# calculate accuracy\n",
        "acc = accuracy_score(y_test, y_pred)\n",
        "\n",
        "print(f\"Accuracy: {acc:.4f}\")"
      ],
      "metadata": {
        "colab": {
          "base_uri": "https://localhost:8080/"
        },
        "id": "ay1ZuNBNjICi",
        "outputId": "2952341b-1c83-49f8-b072-8bf04bc06984"
      },
      "execution_count": null,
      "outputs": [
        {
          "output_type": "stream",
          "name": "stdout",
          "text": [
            "Accuracy: 0.7117\n"
          ]
        }
      ]
    },
    {
      "cell_type": "code",
      "source": [
        "# concatenate edges and feature\n",
        "binary_features_and_edges = np.concatenate([binary_features, binary_edges], axis=1)\n",
        "binary_features_and_edges.shape"
      ],
      "metadata": {
        "colab": {
          "base_uri": "https://localhost:8080/"
        },
        "id": "2gqn9QPGYs62",
        "outputId": "8747e2a5-3b6d-4d27-c8bd-90565c180f60"
      },
      "execution_count": null,
      "outputs": [
        {
          "output_type": "execute_result",
          "data": {
            "text/plain": [
              "(7624, 15468)"
            ]
          },
          "metadata": {},
          "execution_count": 23
        }
      ]
    },
    {
      "cell_type": "code",
      "source": [
        "# extract target labels\n",
        "labels = nodes['target'].values\n",
        "\n",
        "# split the data into training and test sets\n",
        "X_train, X_test, y_train, y_test = train_test_split(binary_features_and_edges, labels, test_size=0.1)\n",
        "\n",
        "# train a random forest classifier\n",
        "clf = RandomForestClassifier(n_estimators=100)\n",
        "clf.fit(X_train, y_train)\n",
        "\n",
        "# make predictions\n",
        "y_pred = clf.predict(X_test)\n",
        "\n",
        "# calculate accuracy\n",
        "acc = accuracy_score(y_test, y_pred)\n",
        "\n",
        "print(f\"Accuracy: {acc:.4f}\")"
      ],
      "metadata": {
        "colab": {
          "base_uri": "https://localhost:8080/"
        },
        "id": "RlVkedfvZWfA",
        "outputId": "058ceeee-d5db-41b8-989c-e86d163d088e"
      },
      "execution_count": null,
      "outputs": [
        {
          "output_type": "stream",
          "name": "stdout",
          "text": [
            "Accuracy: 0.7182\n"
          ]
        }
      ]
    },
    {
      "cell_type": "code",
      "source": [
        "# extract target labels\n",
        "labels = nodes['target'].values\n",
        "\n",
        "# split the data into training and test sets\n",
        "X_train, X_test, y_train, y_test = train_test_split(binary_features_and_edges, labels, test_size=0.1)\n",
        "\n",
        "# train a random forest classifier\n",
        "clf = RandomForestClassifier(n_estimators=200)\n",
        "clf.fit(X_train, y_train)\n",
        "\n",
        "# make predictions\n",
        "y_pred = clf.predict(X_test)\n",
        "\n",
        "# calculate accuracy\n",
        "acc = accuracy_score(y_test, y_pred)\n",
        "\n",
        "print(f\"Accuracy: {acc:.4f}\")"
      ],
      "metadata": {
        "colab": {
          "base_uri": "https://localhost:8080/"
        },
        "id": "mc0GGjLCl4uS",
        "outputId": "b340dc3b-6ee0-4c8f-f35a-f6657c55578f"
      },
      "execution_count": null,
      "outputs": [
        {
          "output_type": "stream",
          "name": "stdout",
          "text": [
            "Accuracy: 0.7379\n"
          ]
        }
      ]
    },
    {
      "cell_type": "code",
      "source": [
        "# extract target labels\n",
        "labels = nodes['target'].values\n",
        "\n",
        "# split the data into training and test sets\n",
        "X_train, X_test, y_train, y_test = train_test_split(binary_features_and_edges, labels, test_size=0.1)\n",
        "\n",
        "# train a random forest classifier\n",
        "clf = RandomForestClassifier(n_estimators=300)\n",
        "clf.fit(X_train, y_train)\n",
        "\n",
        "# make predictions\n",
        "y_pred = clf.predict(X_test)\n",
        "\n",
        "# calculate accuracy\n",
        "acc = accuracy_score(y_test, y_pred)\n",
        "\n",
        "print(f\"Accuracy: {acc:.4f}\")"
      ],
      "metadata": {
        "colab": {
          "base_uri": "https://localhost:8080/"
        },
        "id": "XmeHv8W4jAlZ",
        "outputId": "abaa5839-5c68-4bbe-fb72-b80b8e6c7fad"
      },
      "execution_count": null,
      "outputs": [
        {
          "output_type": "stream",
          "name": "stdout",
          "text": [
            "Accuracy: 0.7248\n"
          ]
        }
      ]
    },
    {
      "cell_type": "code",
      "source": [
        "from sklearn.neighbors import KNeighborsClassifier\n",
        "\n",
        "# extract target labels\n",
        "labels = nodes['target'].values\n",
        "\n",
        "# split the data into training and test sets\n",
        "X_train, X_test, y_train, y_test = train_test_split(binary_features, labels, test_size=0.1)\n",
        "\n",
        "# train a k-Nearest Neighbors classifier\n",
        "clf = KNeighborsClassifier(n_neighbors=1)\n",
        "clf.fit(X_train, y_train)\n",
        "\n",
        "# make predictions\n",
        "y_pred = clf.predict(X_test)\n",
        "\n",
        "# calculate accuracy\n",
        "acc = accuracy_score(y_test, y_pred)\n",
        "\n",
        "print(f\"Accuracy: {acc:.4f}\")"
      ],
      "metadata": {
        "colab": {
          "base_uri": "https://localhost:8080/"
        },
        "id": "4Fv-VqHijVB2",
        "outputId": "2a35fea1-a643-4716-e4c2-82f766132fce"
      },
      "execution_count": null,
      "outputs": [
        {
          "output_type": "stream",
          "name": "stdout",
          "text": [
            "Accuracy: 0.3866\n"
          ]
        }
      ]
    },
    {
      "cell_type": "code",
      "source": [
        "from sklearn.neighbors import KNeighborsClassifier\n",
        "\n",
        "# extract target labels\n",
        "labels = nodes['target'].values\n",
        "\n",
        "# split the data into training and test sets\n",
        "X_train, X_test, y_train, y_test = train_test_split(binary_features, labels, test_size=0.1)\n",
        "\n",
        "# train a k-Nearest Neighbors classifier\n",
        "clf = KNeighborsClassifier(n_neighbors=5)\n",
        "clf.fit(X_train, y_train)\n",
        "\n",
        "# make predictions\n",
        "y_pred = clf.predict(X_test)\n",
        "\n",
        "# calculate accuracy\n",
        "acc = accuracy_score(y_test, y_pred)\n",
        "\n",
        "print(f\"Accuracy: {acc:.4f}\")"
      ],
      "metadata": {
        "colab": {
          "base_uri": "https://localhost:8080/"
        },
        "id": "X-bMZorAhP3a",
        "outputId": "f47f6fba-a035-48d8-e2fe-969eb17ea7cf"
      },
      "execution_count": null,
      "outputs": [
        {
          "output_type": "stream",
          "name": "stdout",
          "text": [
            "Accuracy: 0.4233\n"
          ]
        }
      ]
    },
    {
      "cell_type": "code",
      "source": [
        "from sklearn.neighbors import KNeighborsClassifier\n",
        "\n",
        "# extract target labels\n",
        "labels = nodes['target'].values\n",
        "\n",
        "# split the data into training and test sets\n",
        "X_train, X_test, y_train, y_test = train_test_split(binary_features_and_edges, labels, test_size=0.1)\n",
        "\n",
        "# train a k-Nearest Neighbors classifier\n",
        "clf = KNeighborsClassifier(n_neighbors=5)\n",
        "clf.fit(X_train, y_train)\n",
        "\n",
        "# make predictions\n",
        "y_pred = clf.predict(X_test)\n",
        "\n",
        "# calculate accuracy\n",
        "acc = accuracy_score(y_test, y_pred)\n",
        "\n",
        "print(f\"Accuracy: {acc:.4f}\")"
      ],
      "metadata": {
        "colab": {
          "base_uri": "https://localhost:8080/"
        },
        "id": "f6HCMvt8kX5t",
        "outputId": "1bea32d2-9c96-4f59-f2d1-30773ca20ebe"
      },
      "execution_count": null,
      "outputs": [
        {
          "output_type": "stream",
          "name": "stdout",
          "text": [
            "Accuracy: 0.4010\n"
          ]
        }
      ]
    },
    {
      "cell_type": "code",
      "source": [
        "from sklearn.neighbors import KNeighborsClassifier\n",
        "\n",
        "# extract target labels\n",
        "labels = nodes['target'].values\n",
        "\n",
        "# split the data into training and test sets\n",
        "X_train, X_test, y_train, y_test = train_test_split(binary_features, labels, test_size=0.1)\n",
        "\n",
        "# train a k-Nearest Neighbors classifier\n",
        "clf = KNeighborsClassifier(n_neighbors=15)\n",
        "clf.fit(X_train, y_train)\n",
        "\n",
        "# make predictions\n",
        "y_pred = clf.predict(X_test)\n",
        "\n",
        "# calculate accuracy\n",
        "acc = accuracy_score(y_test, y_pred)\n",
        "\n",
        "print(f\"Accuracy: {acc:.4f}\")"
      ],
      "metadata": {
        "colab": {
          "base_uri": "https://localhost:8080/"
        },
        "id": "XCsuNL2nmAxQ",
        "outputId": "e15917b2-63fc-43ef-f2a0-33345ef1721a"
      },
      "execution_count": null,
      "outputs": [
        {
          "output_type": "stream",
          "name": "stdout",
          "text": [
            "Accuracy: 0.4128\n"
          ]
        }
      ]
    },
    {
      "cell_type": "markdown",
      "source": [
        "# distance search"
      ],
      "metadata": {
        "id": "DGjR-fV8Z6hK"
      }
    },
    {
      "cell_type": "code",
      "source": [
        "!pip install hexhamming  # fast hamming lib in C\n",
        "from hexhamming import hamming_distance_bytes"
      ],
      "metadata": {
        "colab": {
          "base_uri": "https://localhost:8080/"
        },
        "id": "jB24BuTMbEEn",
        "outputId": "94a04e01-4248-462c-ccbe-63c7c9c001a4"
      },
      "execution_count": null,
      "outputs": [
        {
          "output_type": "stream",
          "name": "stdout",
          "text": [
            "Looking in indexes: https://pypi.org/simple, https://us-python.pkg.dev/colab-wheels/public/simple/\n",
            "Collecting hexhamming\n",
            "  Downloading hexhamming-2.2.3-cp310-cp310-manylinux_2_5_x86_64.manylinux1_x86_64.manylinux_2_17_x86_64.manylinux2014_x86_64.whl (42 kB)\n",
            "\u001b[2K     \u001b[90m━━━━━━━━━━━━━━━━━━━━━━━━━━━━━━━━━━━━━━━━\u001b[0m \u001b[32m42.9/42.9 kB\u001b[0m \u001b[31m3.9 MB/s\u001b[0m eta \u001b[36m0:00:00\u001b[0m\n",
            "\u001b[?25hInstalling collected packages: hexhamming\n",
            "Successfully installed hexhamming-2.2.3\n"
          ]
        }
      ]
    },
    {
      "cell_type": "code",
      "source": [
        "def hamming_bytes(x,y): # for gallery list\n",
        "    '''\n",
        "    calculate hamming distance between row x and matrix y\n",
        "    '''\n",
        "    results = np.zeros(len(y), dtype='uint16')\n",
        "    # results = [None] * len(y)\n",
        "    for i, yi in enumerate(y):\n",
        "        results[i] = hamming_distance_bytes(x, yi)\n",
        "        \n",
        "    return results"
      ],
      "metadata": {
        "id": "1RO8sVZta8b0"
      },
      "execution_count": null,
      "outputs": []
    },
    {
      "cell_type": "code",
      "source": [
        "# extract target labels\n",
        "labels = nodes['target'].values\n",
        "\n",
        "# split the data into training and test sets\n",
        "X_train, X_test, y_train, y_test = train_test_split(binary_features, labels, test_size=0.1)\n",
        "\n",
        "# convert to bytestring\n",
        "query_bytes = [bytes(np.packbits(row)) for row in X_test]\n",
        "gallery_bytes = [bytes(np.packbits(row)) for row in X_train]"
      ],
      "metadata": {
        "id": "iXaAzz8CmhQA"
      },
      "execution_count": null,
      "outputs": []
    },
    {
      "cell_type": "code",
      "source": [
        "# result distances up to vector length\n",
        "result = np.zeros((X_test.shape[0], X_train.shape[0]), dtype='uint16')\n",
        "\n",
        "for i, query in enumerate(query_bytes):\n",
        "    result[i] = hamming_bytes(query, gallery_bytes)"
      ],
      "metadata": {
        "id": "Xht61-jLmned"
      },
      "execution_count": null,
      "outputs": []
    },
    {
      "cell_type": "code",
      "source": [
        "print(f\"result shape: {result.shape}\")\n",
        "print(result)"
      ],
      "metadata": {
        "colab": {
          "base_uri": "https://localhost:8080/"
        },
        "id": "sQZiLU4fmv6i",
        "outputId": "6aa3d443-152f-4202-ce0b-d1e022c331fc"
      },
      "execution_count": null,
      "outputs": [
        {
          "output_type": "stream",
          "name": "stdout",
          "text": [
            "result shape: (763, 6861)\n"
          ]
        },
        {
          "output_type": "execute_result",
          "data": {
            "text/plain": [
              "array([[422, 498, 237, ..., 105, 498, 329],\n",
              "       [743, 863, 638, ..., 498, 821, 646],\n",
              "       [744, 836, 583, ..., 449, 784, 611],\n",
              "       ...,\n",
              "       [703, 791, 498, ..., 416, 773, 640],\n",
              "       [664, 742, 525, ..., 419, 708, 557],\n",
              "       [570, 700, 443, ..., 329, 654, 523]], dtype=uint16)"
            ]
          },
          "metadata": {},
          "execution_count": 30
        }
      ]
    },
    {
      "cell_type": "code",
      "source": [
        "# Sort the matrix along axis 1 (rows)\n",
        "sorted_res = np.argsort(result, axis=1)\n",
        "print(f\"most similar ids for each row:\\n{sorted_res}\")"
      ],
      "metadata": {
        "colab": {
          "base_uri": "https://localhost:8080/"
        },
        "id": "gRc4T5egcmfz",
        "outputId": "55e64cd1-2226-42f9-e38b-027d1ac2d219"
      },
      "execution_count": null,
      "outputs": [
        {
          "output_type": "stream",
          "name": "stdout",
          "text": [
            "most similar ids for each row:\n",
            "[[4475 3430 4619 ...  793 5566 5158]\n",
            " [1657  910 2321 ... 1354 5721 5649]\n",
            " [ 493 4532 5082 ... 3880 2726 2093]\n",
            " ...\n",
            " [6070 2955 1178 ... 6223 5566 5158]\n",
            " [1832  493 2389 ... 1079 2093 3880]\n",
            " [4447 4194 6094 ... 1831 1363 3880]]\n"
          ]
        }
      ]
    },
    {
      "cell_type": "code",
      "source": [
        "# visualize performance\n",
        "n=10\n",
        "for i, row in enumerate(sorted_res[0:n, 0:n]):\n",
        "    print(f\"{y_test[i]}:\", end=\" \")\n",
        "    for id in row:\n",
        "        print(y_train[id], end=\" \")\n",
        "    print(\"\")"
      ],
      "metadata": {
        "colab": {
          "base_uri": "https://localhost:8080/"
        },
        "id": "rucQ94lndgBi",
        "outputId": "03fcddd3-27cf-47b7-cbf1-4f3d84ab881c"
      },
      "execution_count": null,
      "outputs": [
        {
          "output_type": "stream",
          "name": "stdout",
          "text": [
            "17: 14 5 0 0 14 6 17 0 0 0 \n",
            "14: 17 17 14 14 14 14 17 0 17 0 \n",
            "5: 10 10 5 17 17 17 17 7 10 17 \n",
            "17: 10 10 17 10 17 17 10 17 14 10 \n",
            "14: 14 0 15 14 14 14 13 3 8 0 \n",
            "0: 5 5 8 5 14 5 5 5 14 5 \n",
            "5: 0 10 10 17 3 17 10 17 15 17 \n",
            "17: 5 17 6 0 0 10 3 0 14 15 \n",
            "10: 10 17 10 10 10 17 17 10 17 10 \n",
            "17: 10 3 10 15 9 15 10 17 17 10 \n"
          ]
        }
      ]
    },
    {
      "cell_type": "code",
      "source": [
        "# Create a list to hold the predicted labels\n",
        "y_pred = []\n",
        "\n",
        "k=15\n",
        "\n",
        "# Iterate over each row in the test set\n",
        "for i in range(len(X_test)):\n",
        "    # Get the ids of the closest nodes for this row\n",
        "    closest_ids = sorted_res[i, :k]\n",
        "    # Get the corresponding labels for these nodes\n",
        "    closest_labels = y_train[closest_ids]\n",
        "    # Take the majority vote of the labels\n",
        "    pred_label = np.bincount(closest_labels).argmax()\n",
        "    # Add the predicted label to the list\n",
        "    y_pred.append(pred_label)\n",
        "\n",
        "# Convert the list of predicted labels to a numpy array\n",
        "y_pred = np.array(y_pred)\n",
        "\n",
        "# Calculate the accuracy\n",
        "acc = accuracy_score(y_test, y_pred)\n",
        "\n",
        "print(f\"Accuracy: {acc:.4f}\")"
      ],
      "metadata": {
        "colab": {
          "base_uri": "https://localhost:8080/"
        },
        "id": "aPH5Y_3uh8T7",
        "outputId": "82dd1bab-131d-4fb5-dfb2-fc7ebb672bb0"
      },
      "execution_count": null,
      "outputs": [
        {
          "output_type": "stream",
          "name": "stdout",
          "text": [
            "Accuracy: 0.4063\n"
          ]
        }
      ]
    },
    {
      "cell_type": "markdown",
      "source": [
        "# centorids"
      ],
      "metadata": {
        "id": "E5BRvtiljoRb"
      }
    },
    {
      "cell_type": "code",
      "source": [
        "# mean centroids\n",
        "df = pd.DataFrame(X_train)\n",
        "df['label'] = y_train\n",
        "\n",
        "# Group the feature matrix by label and compute the mean of each group\n",
        "centroids = df.groupby('label').mean()\n",
        "\n",
        "# Convert the centroids to numpy array\n",
        "centroids = np.array(centroids)\n",
        "\n",
        "# Print the shape of the centroids array\n",
        "print(f\"Centroids shape: {centroids.shape}\")"
      ],
      "metadata": {
        "colab": {
          "base_uri": "https://localhost:8080/"
        },
        "id": "-7Rj8xWFkmU1",
        "outputId": "1bb4143a-26d1-40ee-8a89-79b16f412c16"
      },
      "execution_count": null,
      "outputs": [
        {
          "output_type": "stream",
          "name": "stdout",
          "text": [
            "Centroids shape: (18, 7844)\n"
          ]
        }
      ]
    },
    {
      "cell_type": "code",
      "source": [
        "centroids[centroids>0.5]"
      ],
      "metadata": {
        "id": "iI2c80ifv26a"
      },
      "execution_count": null,
      "outputs": []
    },
    {
      "cell_type": "code",
      "source": [
        "from sklearn.metrics.pairwise import cosine_distances\n",
        "\n",
        "# Calculate the cosine distance between each feature vector in X_test and each centroid\n",
        "distances = cosine_distances(X_test, centroids)\n",
        "\n",
        "# Get the indices of the closest centroid for each feature vector in X_test\n",
        "closest_ids = np.argmin(distances, axis=1)\n",
        "\n",
        "# Calculate the accuracy\n",
        "accuracy = np.mean(closest_ids == y_test)\n",
        "\n",
        "# Print the accuracy as a percentage\n",
        "print(f\"Accuracy: {accuracy * 100:.2f}%\")"
      ],
      "metadata": {
        "colab": {
          "base_uri": "https://localhost:8080/"
        },
        "id": "Xi2bnmbCl3o-",
        "outputId": "e5f19e92-07ad-4077-9233-8a141676d075"
      },
      "execution_count": null,
      "outputs": [
        {
          "output_type": "stream",
          "name": "stdout",
          "text": [
            "Accuracy: 47.71%\n"
          ]
        }
      ]
    },
    {
      "cell_type": "code",
      "source": [],
      "metadata": {
        "id": "MfvqjsAvqH7Q"
      },
      "execution_count": null,
      "outputs": []
    },
    {
      "cell_type": "code",
      "source": [
        "# analiza grafowa dla 3 klas z lib\n",
        "# wybrac 2 podjescia i policzyc metryki jak sie zachowuja mniejszosciowe klasy"
      ],
      "metadata": {
        "id": "gPCiV3n2uhmr"
      },
      "execution_count": null,
      "outputs": []
    },
    {
      "cell_type": "code",
      "source": [
        "X_train.shape"
      ],
      "metadata": {
        "colab": {
          "base_uri": "https://localhost:8080/"
        },
        "id": "sWlU20a-tGjK",
        "outputId": "08947524-765d-4de2-bf22-76a311f478a0"
      },
      "execution_count": null,
      "outputs": [
        {
          "output_type": "execute_result",
          "data": {
            "text/plain": [
              "(6861, 7844)"
            ]
          },
          "metadata": {},
          "execution_count": 85
        }
      ]
    },
    {
      "cell_type": "code",
      "source": [
        "# binary centroids\n",
        "binary_centroids = (centroids > 0.5).astype(int)"
      ],
      "metadata": {
        "id": "7S7laIlZqbDd"
      },
      "execution_count": null,
      "outputs": []
    },
    {
      "cell_type": "code",
      "source": [
        "binary_centroids.shape"
      ],
      "metadata": {
        "colab": {
          "base_uri": "https://localhost:8080/"
        },
        "id": "ZgzXNnUswnul",
        "outputId": "eca76826-0803-4c0d-9040-c9b37d3dd13a"
      },
      "execution_count": null,
      "outputs": [
        {
          "output_type": "execute_result",
          "data": {
            "text/plain": [
              "(18, 7844)"
            ]
          },
          "metadata": {},
          "execution_count": 107
        }
      ]
    },
    {
      "cell_type": "code",
      "source": [
        "# convert to bytestring\n",
        "query_bytes = [bytes(np.packbits(row)) for row in X_test]\n",
        "gallery_bytes = [bytes(np.packbits(row)) for row in binary_centroids]"
      ],
      "metadata": {
        "id": "VsB_bhvzxLx3"
      },
      "execution_count": null,
      "outputs": []
    },
    {
      "cell_type": "code",
      "source": [
        "# result distances up to vector length\n",
        "result = np.zeros((X_test.shape[0], binary_centroids.shape[0]), dtype='uint16')\n",
        "\n",
        "for i, query in enumerate(query_bytes):\n",
        "    result[i] = hamming_bytes(query, gallery_bytes)"
      ],
      "metadata": {
        "id": "GqUBHiC_rFsl"
      },
      "execution_count": null,
      "outputs": []
    },
    {
      "cell_type": "code",
      "source": [
        "# Sort the matrix along axis 1 (rows)\n",
        "sorted_res = np.argsort(result, axis=1)\n",
        "print(f\"most similar ids for each row:\\n{sorted_res}\")"
      ],
      "metadata": {
        "colab": {
          "base_uri": "https://localhost:8080/"
        },
        "id": "BmvQPOWLxCae",
        "outputId": "aecc1501-8989-4aa8-8c5f-798945963acf"
      },
      "execution_count": null,
      "outputs": [
        {
          "output_type": "stream",
          "name": "stdout",
          "text": [
            "most similar ids for each row:\n",
            "[[17  7  5 ...  6  0 11]\n",
            " [ 6  0 16 ...  1 15  2]\n",
            " [ 2  8 14 ...  4 10 11]\n",
            " ...\n",
            " [10  9 15 ...  2  6  0]\n",
            " [ 8 14  2 ...  4 13 11]\n",
            " [10 11  0 ...  5  7 17]]\n"
          ]
        }
      ]
    },
    {
      "cell_type": "code",
      "source": [
        "# visualize performance\n",
        "n=10\n",
        "for i, row in enumerate(sorted_res[0:n, 0:n]):\n",
        "    print(f\"{y_test[i]}:\", end=\" \")\n",
        "    for id in row:\n",
        "        print(y_train[id], end=\" \")\n",
        "    print(\"\")"
      ],
      "metadata": {
        "colab": {
          "base_uri": "https://localhost:8080/"
        },
        "id": "7-8HThwyxhck",
        "outputId": "9e8c40cb-3c46-4bfb-9262-b21236958413"
      },
      "execution_count": null,
      "outputs": [
        {
          "output_type": "stream",
          "name": "stdout",
          "text": [
            "17: 5 14 10 15 0 17 6 10 0 10 \n",
            "14: 6 6 15 0 6 10 10 6 5 17 \n",
            "5: 17 10 0 5 10 14 15 17 0 10 \n",
            "17: 6 0 6 16 10 17 0 15 10 10 \n",
            "14: 6 6 0 10 16 17 0 15 17 6 \n",
            "0: 5 14 10 10 0 15 17 17 0 6 \n",
            "5: 0 17 10 14 5 6 16 15 10 0 \n",
            "17: 5 14 10 15 0 6 17 10 0 10 \n",
            "10: 14 5 0 10 6 0 15 17 10 10 \n",
            "17: 10 15 10 14 5 0 0 17 6 0 \n"
          ]
        }
      ]
    },
    {
      "cell_type": "code",
      "source": [
        "# Create a list to hold the predicted labels\n",
        "y_pred = []\n",
        "\n",
        "k=15\n",
        "\n",
        "# Iterate over each row in the test set\n",
        "for i in range(len(X_test)):\n",
        "    # Get the ids of the closest nodes for this row\n",
        "    closest_ids = sorted_res[i, :k]\n",
        "    # Get the corresponding labels for these nodes\n",
        "    closest_labels = y_train[closest_ids]\n",
        "    # Take the majority vote of the labels\n",
        "    pred_label = np.bincount(closest_labels).argmax()\n",
        "    # Add the predicted label to the list\n",
        "    y_pred.append(pred_label)\n",
        "\n",
        "# Convert the list of predicted labels to a numpy array\n",
        "y_pred = np.array(y_pred)\n",
        "\n",
        "# Calculate the accuracy\n",
        "acc = accuracy_score(y_test, y_pred)\n",
        "\n",
        "print(f\"Accuracy: {acc:.4f}\")"
      ],
      "metadata": {
        "colab": {
          "base_uri": "https://localhost:8080/"
        },
        "id": "J2FvYiCPxjOe",
        "outputId": "4512ae43-76cd-40c7-9c59-91d2f812ec9c"
      },
      "execution_count": null,
      "outputs": [
        {
          "output_type": "stream",
          "name": "stdout",
          "text": [
            "Accuracy: 0.1769\n"
          ]
        }
      ]
    },
    {
      "cell_type": "markdown",
      "source": [
        "# NN"
      ],
      "metadata": {
        "id": "Ce1dgxlawGgv"
      }
    },
    {
      "cell_type": "code",
      "source": [
        "# create the adjacency matrix\n",
        "adj_matrix = np.zeros((nodes['id'].nunique(), nodes['id'].nunique()))\n",
        "for _, row in edges.iterrows():\n",
        "    adj_matrix[row['node_1'], row['node_2']] = 1\n",
        "    # adj_matrix[row['node_2'], row['node_1']] = 1\n",
        "\n",
        "# create the feature matrix\n",
        "feature_matrix = features_df.values\n",
        "\n",
        "# create the target labels\n",
        "target_labels = nodes['target'].values"
      ],
      "metadata": {
        "id": "Wp3KJil9wHXd"
      },
      "execution_count": null,
      "outputs": []
    },
    {
      "cell_type": "code",
      "source": [
        "adj_matrix.shape"
      ],
      "metadata": {
        "colab": {
          "base_uri": "https://localhost:8080/"
        },
        "id": "P3UfADVPwTdX",
        "outputId": "de677ceb-4d56-42c5-eee9-986664251dd4"
      },
      "execution_count": null,
      "outputs": [
        {
          "output_type": "execute_result",
          "data": {
            "text/plain": [
              "(7624, 7624)"
            ]
          },
          "metadata": {},
          "execution_count": 44
        }
      ]
    },
    {
      "cell_type": "code",
      "source": [
        "feature_matrix.shape"
      ],
      "metadata": {
        "colab": {
          "base_uri": "https://localhost:8080/"
        },
        "id": "gEYnoR9xwVcB",
        "outputId": "beca7ead-7e24-4868-9987-6dff9e76a2c4"
      },
      "execution_count": null,
      "outputs": [
        {
          "output_type": "execute_result",
          "data": {
            "text/plain": [
              "(7624, 944)"
            ]
          },
          "metadata": {},
          "execution_count": 46
        }
      ]
    },
    {
      "cell_type": "code",
      "source": [
        "target_labels.shape"
      ],
      "metadata": {
        "colab": {
          "base_uri": "https://localhost:8080/"
        },
        "id": "hmIl4WpYwjKD",
        "outputId": "50db2e00-7e4a-49c3-e5a2-658ed7345f66"
      },
      "execution_count": null,
      "outputs": [
        {
          "output_type": "execute_result",
          "data": {
            "text/plain": [
              "(7624,)"
            ]
          },
          "metadata": {},
          "execution_count": 47
        }
      ]
    },
    {
      "cell_type": "code",
      "source": [],
      "metadata": {
        "id": "R4LI6dIK4q8D"
      },
      "execution_count": null,
      "outputs": []
    },
    {
      "cell_type": "code",
      "source": [
        "!pip install torch-geometric"
      ],
      "metadata": {
        "id": "edXPgSf55IcQ"
      },
      "execution_count": null,
      "outputs": []
    },
    {
      "cell_type": "code",
      "source": [
        "import torch\n",
        "import torch.nn.functional as F\n",
        "from torch_geometric.nn import GCNConv\n",
        "\n",
        "# define the graph convolutional network model\n",
        "class Net(torch.nn.Module):\n",
        "    def __init__(self):\n",
        "        super(Net, self).__init__()\n",
        "        self.conv1 = GCNConv(feature_matrix.shape[1], 16)\n",
        "        self.conv2 = GCNConv(16, np.unique(target_labels))\n",
        "\n",
        "    def forward(self, x, edge_index):\n",
        "        x = F.relu(self.conv1(x, edge_index))\n",
        "        x = F.dropout(x, training=self.training)\n",
        "        x = self.conv2(x, edge_index)\n",
        "        return F.log_softmax(x, dim=1)\n",
        "\n"
      ],
      "metadata": {
        "id": "dWOa7LTB49rr"
      },
      "execution_count": null,
      "outputs": []
    },
    {
      "cell_type": "code",
      "source": [
        "# convert the data to PyTorch tensors\n",
        "# edge_index = torch.tensor(edges.values.T, dtype=torch.long)\n",
        "edge_index = torch.tensor(np.transpose(np.nonzero(adj_matrix)), dtype=torch.long)\n",
        "x = torch.tensor(feature_matrix, dtype=torch.float)\n",
        "y = torch.tensor(target_labels, dtype=torch.long)\n",
        "\n",
        "# define the device to run the model on\n",
        "device = torch.device('cuda' if torch.cuda.is_available() else 'cpu')\n",
        "\n",
        "# initialize the model and move it to the device\n",
        "model = Net()\n",
        "model.to(device)\n",
        "\n",
        "# define the optimizer and loss function\n",
        "optimizer = torch.optim.Adam(model.parameters(), lr=0.01)\n",
        "criterion = torch.nn.NLLLoss()\n",
        "\n",
        "# train the model\n",
        "model.train()\n",
        "for epoch in range(200):\n",
        "    optimizer.zero_grad()\n",
        "    output = model(x.to(device), edge_index.to(device))\n",
        "    loss = criterion(output, y.to(device))\n",
        "    loss.backward()\n",
        "    optimizer.step()\n",
        "    if epoch % 20 == 0:\n",
        "        print(f'Epoch: {epoch}, Loss: {loss.item()}')\n",
        "\n",
        "# evaluate the model\n",
        "model.eval()\n",
        "with torch.no_grad():\n",
        "    output = model(x.to(device), edge_index.to(device))\n",
        "    pred = output.argmax(dim=1)\n",
        "    acc = (pred == y.to(device)).sum().item() / y.shape[0]\n",
        "    print(f'Test Accuracy: {acc:.4f}')"
      ],
      "metadata": {
        "colab": {
          "base_uri": "https://localhost:8080/",
          "height": 484
        },
        "id": "bdLztHxr53Kb",
        "outputId": "f2a16ddc-2c2c-4753-b164-5b1b7d4a04da"
      },
      "execution_count": null,
      "outputs": [
        {
          "output_type": "error",
          "ename": "TypeError",
          "evalue": "ignored",
          "traceback": [
            "\u001b[0;31m---------------------------------------------------------------------------\u001b[0m",
            "\u001b[0;31mTypeError\u001b[0m                                 Traceback (most recent call last)",
            "\u001b[0;32m<ipython-input-102-88b8ba61eb92>\u001b[0m in \u001b[0;36m<cell line: 11>\u001b[0;34m()\u001b[0m\n\u001b[1;32m      9\u001b[0m \u001b[0;34m\u001b[0m\u001b[0m\n\u001b[1;32m     10\u001b[0m \u001b[0;31m# initialize the model and move it to the device\u001b[0m\u001b[0;34m\u001b[0m\u001b[0;34m\u001b[0m\u001b[0m\n\u001b[0;32m---> 11\u001b[0;31m \u001b[0mmodel\u001b[0m \u001b[0;34m=\u001b[0m \u001b[0mNet\u001b[0m\u001b[0;34m(\u001b[0m\u001b[0;34m)\u001b[0m\u001b[0;34m\u001b[0m\u001b[0;34m\u001b[0m\u001b[0m\n\u001b[0m\u001b[1;32m     12\u001b[0m \u001b[0mmodel\u001b[0m\u001b[0;34m.\u001b[0m\u001b[0mto\u001b[0m\u001b[0;34m(\u001b[0m\u001b[0mdevice\u001b[0m\u001b[0;34m)\u001b[0m\u001b[0;34m\u001b[0m\u001b[0;34m\u001b[0m\u001b[0m\n\u001b[1;32m     13\u001b[0m \u001b[0;34m\u001b[0m\u001b[0m\n",
            "\u001b[0;32m<ipython-input-100-cda7276c2eea>\u001b[0m in \u001b[0;36m__init__\u001b[0;34m(self)\u001b[0m\n\u001b[1;32m      8\u001b[0m         \u001b[0msuper\u001b[0m\u001b[0;34m(\u001b[0m\u001b[0mNet\u001b[0m\u001b[0;34m,\u001b[0m \u001b[0mself\u001b[0m\u001b[0;34m)\u001b[0m\u001b[0;34m.\u001b[0m\u001b[0m__init__\u001b[0m\u001b[0;34m(\u001b[0m\u001b[0;34m)\u001b[0m\u001b[0;34m\u001b[0m\u001b[0;34m\u001b[0m\u001b[0m\n\u001b[1;32m      9\u001b[0m         \u001b[0mself\u001b[0m\u001b[0;34m.\u001b[0m\u001b[0mconv1\u001b[0m \u001b[0;34m=\u001b[0m \u001b[0mGCNConv\u001b[0m\u001b[0;34m(\u001b[0m\u001b[0mfeature_matrix\u001b[0m\u001b[0;34m.\u001b[0m\u001b[0mshape\u001b[0m\u001b[0;34m[\u001b[0m\u001b[0;36m1\u001b[0m\u001b[0;34m]\u001b[0m\u001b[0;34m,\u001b[0m \u001b[0;36m16\u001b[0m\u001b[0;34m)\u001b[0m\u001b[0;34m\u001b[0m\u001b[0;34m\u001b[0m\u001b[0m\n\u001b[0;32m---> 10\u001b[0;31m         \u001b[0mself\u001b[0m\u001b[0;34m.\u001b[0m\u001b[0mconv2\u001b[0m \u001b[0;34m=\u001b[0m \u001b[0mGCNConv\u001b[0m\u001b[0;34m(\u001b[0m\u001b[0;36m16\u001b[0m\u001b[0;34m,\u001b[0m \u001b[0mnp\u001b[0m\u001b[0;34m.\u001b[0m\u001b[0munique\u001b[0m\u001b[0;34m(\u001b[0m\u001b[0mtarget_labels\u001b[0m\u001b[0;34m)\u001b[0m\u001b[0;34m)\u001b[0m\u001b[0;34m\u001b[0m\u001b[0;34m\u001b[0m\u001b[0m\n\u001b[0m\u001b[1;32m     11\u001b[0m \u001b[0;34m\u001b[0m\u001b[0m\n\u001b[1;32m     12\u001b[0m     \u001b[0;32mdef\u001b[0m \u001b[0mforward\u001b[0m\u001b[0;34m(\u001b[0m\u001b[0mself\u001b[0m\u001b[0;34m,\u001b[0m \u001b[0mx\u001b[0m\u001b[0;34m,\u001b[0m \u001b[0medge_index\u001b[0m\u001b[0;34m)\u001b[0m\u001b[0;34m:\u001b[0m\u001b[0;34m\u001b[0m\u001b[0;34m\u001b[0m\u001b[0m\n",
            "\u001b[0;32m/usr/local/lib/python3.9/dist-packages/torch_geometric/nn/conv/gcn_conv.py\u001b[0m in \u001b[0;36m__init__\u001b[0;34m(self, in_channels, out_channels, improved, cached, add_self_loops, normalize, bias, **kwargs)\u001b[0m\n\u001b[1;32m    184\u001b[0m         \u001b[0mself\u001b[0m\u001b[0;34m.\u001b[0m\u001b[0m_cached_adj_t\u001b[0m \u001b[0;34m=\u001b[0m \u001b[0;32mNone\u001b[0m\u001b[0;34m\u001b[0m\u001b[0;34m\u001b[0m\u001b[0m\n\u001b[1;32m    185\u001b[0m \u001b[0;34m\u001b[0m\u001b[0m\n\u001b[0;32m--> 186\u001b[0;31m         self.lin = Linear(in_channels, out_channels, bias=False,\n\u001b[0m\u001b[1;32m    187\u001b[0m                           weight_initializer='glorot')\n\u001b[1;32m    188\u001b[0m \u001b[0;34m\u001b[0m\u001b[0m\n",
            "\u001b[0;32m/usr/local/lib/python3.9/dist-packages/torch_geometric/nn/dense/linear.py\u001b[0m in \u001b[0;36m__init__\u001b[0;34m(self, in_channels, out_channels, bias, weight_initializer, bias_initializer)\u001b[0m\n\u001b[1;32m     94\u001b[0m \u001b[0;34m\u001b[0m\u001b[0m\n\u001b[1;32m     95\u001b[0m         \u001b[0;32mif\u001b[0m \u001b[0min_channels\u001b[0m \u001b[0;34m>\u001b[0m \u001b[0;36m0\u001b[0m\u001b[0;34m:\u001b[0m\u001b[0;34m\u001b[0m\u001b[0;34m\u001b[0m\u001b[0m\n\u001b[0;32m---> 96\u001b[0;31m             \u001b[0mself\u001b[0m\u001b[0;34m.\u001b[0m\u001b[0mweight\u001b[0m \u001b[0;34m=\u001b[0m \u001b[0mParameter\u001b[0m\u001b[0;34m(\u001b[0m\u001b[0mtorch\u001b[0m\u001b[0;34m.\u001b[0m\u001b[0mTensor\u001b[0m\u001b[0;34m(\u001b[0m\u001b[0mout_channels\u001b[0m\u001b[0;34m,\u001b[0m \u001b[0min_channels\u001b[0m\u001b[0;34m)\u001b[0m\u001b[0;34m)\u001b[0m\u001b[0;34m\u001b[0m\u001b[0;34m\u001b[0m\u001b[0m\n\u001b[0m\u001b[1;32m     97\u001b[0m         \u001b[0;32melse\u001b[0m\u001b[0;34m:\u001b[0m\u001b[0;34m\u001b[0m\u001b[0;34m\u001b[0m\u001b[0m\n\u001b[1;32m     98\u001b[0m             \u001b[0mself\u001b[0m\u001b[0;34m.\u001b[0m\u001b[0mweight\u001b[0m \u001b[0;34m=\u001b[0m \u001b[0mnn\u001b[0m\u001b[0;34m.\u001b[0m\u001b[0mparameter\u001b[0m\u001b[0;34m.\u001b[0m\u001b[0mUninitializedParameter\u001b[0m\u001b[0;34m(\u001b[0m\u001b[0;34m)\u001b[0m\u001b[0;34m\u001b[0m\u001b[0;34m\u001b[0m\u001b[0m\n",
            "\u001b[0;31mTypeError\u001b[0m: new() received an invalid combination of arguments - got (numpy.ndarray, int), but expected one of:\n * (*, torch.device device)\n      didn't match because some of the arguments have invalid types: (!numpy.ndarray!, !int!)\n * (torch.Storage storage)\n * (Tensor other)\n * (tuple of ints size, *, torch.device device)\n * (object data, *, torch.device device)\n"
          ]
        }
      ]
    },
    {
      "cell_type": "code",
      "source": [
        "np.unique(targets)"
      ],
      "metadata": {
        "colab": {
          "base_uri": "https://localhost:8080/"
        },
        "id": "BQ26d3_a4a9T",
        "outputId": "2f2f15b4-7198-43bf-aa0c-9c8c603b5bcf"
      },
      "execution_count": null,
      "outputs": [
        {
          "output_type": "execute_result",
          "data": {
            "text/plain": [
              "array([ 0,  1,  2,  3,  4,  5,  6,  7,  8,  9, 10, 11, 12, 13, 14, 15, 16,\n",
              "       17])"
            ]
          },
          "metadata": {},
          "execution_count": 88
        }
      ]
    }
  ]
}